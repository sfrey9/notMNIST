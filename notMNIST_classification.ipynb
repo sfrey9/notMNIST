{
 "cells": [
  {
   "cell_type": "code",
   "execution_count": null,
   "metadata": {
    "collapsed": true
   },
   "outputs": [],
   "source": [
    "# These are all the modules we'll be using later. Make sure you can import them\n",
    "# before proceeding further.\n",
    "from __future__ import print_function\n",
    "import matplotlib.pyplot as plt\n",
    "import numpy as np\n",
    "import os\n",
    "import sys\n",
    "import tarfile\n",
    "from IPython.display import display, Image\n",
    "from scipy import ndimage\n",
    "from sklearn.linear_model import LogisticRegression\n",
    "from six.moves.urllib.request import urlretrieve\n",
    "from six.moves import cPickle as pickle\n",
    "\n",
    "# Config the matplotlib backend as plotting inline in IPython\n",
    "%matplotlib inline"
   ]
  },
  {
   "cell_type": "code",
   "execution_count": null,
   "metadata": {},
   "outputs": [],
   "source": [
    "url = 'https://commondatastorage.googleapis.com/books1000/'\n",
    "last_percent_reported = None\n",
    "data_root = '.' # Change me to store data elsewhere\n",
    "\n",
    "def download_progress_hook(count, blockSize, totalSize):\n",
    "  \"\"\"A hook to report the progress of a download. This is mostly intended for users with\n",
    "  slow internet connections. Reports every 5% change in download progress.\n",
    "  \"\"\"\n",
    "  global last_percent_reported\n",
    "  percent = int(count * blockSize * 100 / totalSize)\n",
    "\n",
    "  if last_percent_reported != percent:\n",
    "    if percent % 5 == 0:\n",
    "      sys.stdout.write(\"%s%%\" % percent)\n",
    "      sys.stdout.flush()\n",
    "    else:\n",
    "      sys.stdout.write(\".\")\n",
    "      sys.stdout.flush()\n",
    "      \n",
    "    last_percent_reported = percent\n",
    "        \n",
    "def maybe_download(filename, expected_bytes, force=False):\n",
    "  \"\"\"Download a file if not present, and make sure it's the right size.\"\"\"\n",
    "  dest_filename = os.path.join(data_root, filename)\n",
    "  if force or not os.path.exists(dest_filename):\n",
    "    print('Attempting to download:', filename) \n",
    "    filename, _ = urlretrieve(url + filename, dest_filename, reporthook=download_progress_hook)\n",
    "    print('\\nDownload Complete!')\n",
    "  statinfo = os.stat(dest_filename)\n",
    "  if statinfo.st_size == expected_bytes:\n",
    "    print('Found and verified', dest_filename)\n",
    "  else:\n",
    "    raise Exception(\n",
    "      'Failed to verify ' + dest_filename + '. Can you get to it with a browser?')\n",
    "  return dest_filename\n",
    "\n",
    "train_filename = maybe_download('notMNIST_large.tar.gz', 247336696)\n",
    "test_filename = maybe_download('notMNIST_small.tar.gz', 8458043)"
   ]
  },
  {
   "cell_type": "code",
   "execution_count": null,
   "metadata": {},
   "outputs": [],
   "source": [
    "num_classes = 10\n",
    "np.random.seed(133)\n",
    "\n",
    "def maybe_extract(filename, force=False):\n",
    "  root = os.path.splitext(os.path.splitext(filename)[0])[0]  # remove .tar.gz\n",
    "  if os.path.isdir(root) and not force:\n",
    "    # You may override by setting force=True.\n",
    "    print('%s already present - Skipping extraction of %s.' % (root, filename))\n",
    "  else:\n",
    "    print('Extracting data for %s. This may take a while. Please wait.' % root)\n",
    "    tar = tarfile.open(filename)\n",
    "    sys.stdout.flush()\n",
    "    tar.extractall(data_root)\n",
    "    tar.close()\n",
    "  data_folders = [\n",
    "    os.path.join(root, d) for d in sorted(os.listdir(root))\n",
    "    if os.path.isdir(os.path.join(root, d))]\n",
    "  if len(data_folders) != num_classes:\n",
    "    raise Exception(\n",
    "      'Expected %d folders, one per class. Found %d instead.' % (\n",
    "        num_classes, len(data_folders)))\n",
    "  print(data_folders)\n",
    "  return data_folders\n",
    "  \n",
    "train_folders = maybe_extract(train_filename)\n",
    "test_folders = maybe_extract(test_filename)"
   ]
  },
  {
   "cell_type": "code",
   "execution_count": null,
   "metadata": {},
   "outputs": [],
   "source": [
    "# This Section defines two functions. the first function creates an array of images using all the image files \n",
    "# in a directory. The second function outputs a single random image seleced from a directory.\n",
    "\n",
    "from os import listdir;\n",
    "from PIL import Image;\n",
    "import numpy as np\n",
    "\n",
    "def imarray(impath):\n",
    "# this function will output an array of sample images\n",
    "    imdir = listdir(impath);\n",
    "    imlist = np.zeros(len(imdir));\n",
    "    tick = 0\n",
    "    for im in imdir:\n",
    "        try:\n",
    "            imtemp = Image.open(impath + im);\n",
    "            imcopy = imtemp.copy();\n",
    "            imlist[tick] = imcopy;\n",
    "            imtemp.close();\n",
    "            tick += 1;\n",
    "        except OSError:\n",
    "            pass\n",
    "    return imlist\n",
    "\n",
    "def randomim(impath):\n",
    "# this function will output a single sample image from a directory\n",
    "    imdir = listdir(impath);\n",
    "    k = np.random.randint(0,len(imdir),size=1);\n",
    "    try:\n",
    "        imtemp = Image.open(impath + imdir[k[0]]);\n",
    "        imcopy = imtemp.copy();\n",
    "        imtemp.close()\n",
    "    except OSError:\n",
    "        randomim(impath);\n",
    "    return imcopy\n",
    "        \n",
    "    \n",
    "trial = input('sample original images? (Y/N)');\n",
    "if trial == 'Y':\n",
    "    for i in range (ord('A'),ord('A')+10):\n",
    "        impath = '/Users/Shardul/Desktop/Python/Projects/Untitled Folder/notMNIST_large/'+chr(i)+'/';\n",
    "        im = randomim(impath);\n",
    "        im.show();\n",
    "\n"
   ]
  },
  {
   "cell_type": "code",
   "execution_count": null,
   "metadata": {},
   "outputs": [],
   "source": [
    "image_size = 28  # Pixel width and height.\n",
    "pixel_depth = 255.0  # Number of levels per pixel.\n",
    "\n",
    "def load_letter(folder, min_num_images):\n",
    "  \"\"\"Load the data for a single letter label.\"\"\"\n",
    "  image_files = os.listdir(folder)\n",
    "  dataset = np.ndarray(shape=(len(image_files), image_size, image_size),\n",
    "                         dtype=np.float32)\n",
    "  print(folder)\n",
    "  num_images = 0\n",
    "  for image in image_files:\n",
    "    image_file = os.path.join(folder, image)\n",
    "    try:\n",
    "      image_data = (ndimage.imread(image_file).astype(float) - \n",
    "                    pixel_depth / 2) / pixel_depth\n",
    "      if image_data.shape != (image_size, image_size):\n",
    "        raise Exception('Unexpected image shape: %s' % str(image_data.shape))\n",
    "      dataset[num_images, :, :] = image_data\n",
    "      num_images = num_images + 1\n",
    "    except IOError as e:\n",
    "      print('Could not read:', image_file, ':', e, '- it\\'s ok, skipping.')\n",
    "    \n",
    "  dataset = dataset[0:num_images, :, :]\n",
    "  if num_images < min_num_images:\n",
    "    raise Exception('Many fewer images than expected: %d < %d' %\n",
    "                    (num_images, min_num_images))\n",
    "    \n",
    "  print('Full dataset tensor:', dataset.shape)\n",
    "  print('Mean:', np.mean(dataset))\n",
    "  print('Standard deviation:', np.std(dataset))\n",
    "  return dataset\n",
    "        \n",
    "def maybe_pickle(data_folders, min_num_images_per_class, force=False):\n",
    "  dataset_names = []\n",
    "  for folder in data_folders:\n",
    "    set_filename = folder + '.pickle'\n",
    "    dataset_names.append(set_filename)\n",
    "    if os.path.exists(set_filename) and not force:\n",
    "      # You may override by setting force=True.\n",
    "      print('%s already present - Skipping pickling.' % set_filename)\n",
    "    else:\n",
    "      print('Pickling %s.' % set_filename)\n",
    "      dataset = load_letter(folder, min_num_images_per_class)\n",
    "      try:\n",
    "        with open(set_filename, 'wb') as f:\n",
    "          pickle.dump(dataset, f, pickle.HIGHEST_PROTOCOL)\n",
    "      except Exception as e:\n",
    "        print('Unable to save data to', set_filename, ':', e)\n",
    "  \n",
    "  return dataset_names\n",
    "\n",
    "train_datasets = maybe_pickle(train_folders, 45000)\n",
    "test_datasets = maybe_pickle(test_folders, 1800)"
   ]
  },
  {
   "cell_type": "code",
   "execution_count": null,
   "metadata": {},
   "outputs": [],
   "source": [
    "trial = input('sample refined images? (Y/N)');\n",
    "if trial == 'Y':\n",
    "    for filepath in train_datasets:\n",
    "        f = open(filepath,'rb');\n",
    "        P = pickle.load(f);\n",
    "        r = np.random.randint(P.shape[0]);\n",
    "        a = P[r,:,:];\n",
    "        imgplot = plt.imshow(a);\n",
    "        imgplot.set_cmap('Greys');\n",
    "        plt.colorbar();\n",
    "        print('\\n\\nLetter',str(filepath)[17],', sample #',r)\n",
    "        plt.show();\n",
    "    "
   ]
  },
  {
   "cell_type": "code",
   "execution_count": null,
   "metadata": {},
   "outputs": [],
   "source": [
    "def make_arrays(nb_rows, img_size):\n",
    "  if nb_rows:\n",
    "    dataset = np.ndarray((nb_rows, img_size, img_size), dtype=np.float32)\n",
    "    labels = np.ndarray(nb_rows, dtype=np.int32)\n",
    "  else:\n",
    "    dataset, labels = None, None\n",
    "  return dataset, labels\n",
    "\n",
    "def merge_datasets(pickle_files, train_size, valid_size=0):\n",
    "  num_classes = len(pickle_files)\n",
    "  valid_dataset, valid_labels = make_arrays(valid_size, image_size)\n",
    "  train_dataset, train_labels = make_arrays(train_size, image_size)\n",
    "  vsize_per_class = valid_size // num_classes\n",
    "  tsize_per_class = train_size // num_classes\n",
    "    \n",
    "  start_v, start_t = 0, 0\n",
    "  end_v, end_t = vsize_per_class, tsize_per_class\n",
    "  end_l = vsize_per_class+tsize_per_class\n",
    "  for label, pickle_file in enumerate(pickle_files):       \n",
    "    try:\n",
    "      with open(pickle_file, 'rb') as f:\n",
    "        letter_set = pickle.load(f)\n",
    "        # let's shuffle the letters to have random validation and training set\n",
    "        np.random.shuffle(letter_set)\n",
    "        if valid_dataset is not None:\n",
    "          valid_letter = letter_set[:vsize_per_class, :, :]\n",
    "          valid_dataset[start_v:end_v, :, :] = valid_letter\n",
    "          valid_labels[start_v:end_v] = label\n",
    "          start_v += vsize_per_class\n",
    "          end_v += vsize_per_class\n",
    "                    \n",
    "        train_letter = letter_set[vsize_per_class:end_l, :, :]\n",
    "        train_dataset[start_t:end_t, :, :] = train_letter\n",
    "        train_labels[start_t:end_t] = label\n",
    "        start_t += tsize_per_class\n",
    "        end_t += tsize_per_class\n",
    "    except Exception as e:\n",
    "      print('Unable to process data from', pickle_file, ':', e)\n",
    "      raise\n",
    "    \n",
    "  return valid_dataset, valid_labels, train_dataset, train_labels\n",
    "            \n",
    "            \n",
    "train_size = 200000\n",
    "valid_size = 10000\n",
    "test_size = 10000\n",
    "\n",
    "valid_dataset, valid_labels, train_dataset, train_labels = merge_datasets(\n",
    "  train_datasets, train_size, valid_size)\n",
    "_, _, test_dataset, test_labels = merge_datasets(test_datasets, test_size)\n",
    "\n",
    "print('Training:', train_dataset.shape, train_labels.shape)\n",
    "print('Validation:', valid_dataset.shape, valid_labels.shape)\n",
    "print('Testing:', test_dataset.shape, test_labels.shape)"
   ]
  },
  {
   "cell_type": "code",
   "execution_count": null,
   "metadata": {
    "collapsed": true
   },
   "outputs": [],
   "source": [
    "def randomize(dataset, labels):\n",
    "  permutation = np.random.permutation(labels.shape[0])\n",
    "  shuffled_dataset = dataset[permutation,:,:]\n",
    "  shuffled_labels = labels[permutation]\n",
    "  return shuffled_dataset, shuffled_labels\n",
    "train_dataset, train_labels = randomize(train_dataset, train_labels)\n",
    "test_dataset, test_labels = randomize(test_dataset, test_labels)\n",
    "valid_dataset, valid_labels = randomize(valid_dataset, valid_labels)"
   ]
  },
  {
   "cell_type": "code",
   "execution_count": null,
   "metadata": {},
   "outputs": [],
   "source": [
    "error = 0\n",
    "for i in range(0,99000):\n",
    "    a,b = np.sum(train_labels[i:i+1000])/1000,np.std(train_labels[i:i+1000]);\n",
    "    if (4.3<=a<=4.7 or 2.7<=b<=3.0) == False:\n",
    "        error +=1;\n",
    "print('Number of suspected non-uniform intervals:',error);\n",
    "    "
   ]
  },
  {
   "cell_type": "code",
   "execution_count": null,
   "metadata": {
    "collapsed": true
   },
   "outputs": [],
   "source": [
    "pickle_file = os.path.join(data_root, 'notMNIST.pickle')\n",
    "\n",
    "try:\n",
    "  f = open(pickle_file, 'wb')\n",
    "  save = {\n",
    "    'train_dataset': train_dataset,\n",
    "    'train_labels': train_labels,\n",
    "    'valid_dataset': valid_dataset,\n",
    "    'valid_labels': valid_labels,\n",
    "    'test_dataset': test_dataset,\n",
    "    'test_labels': test_labels,\n",
    "    }\n",
    "  pickle.dump(save, f, pickle.HIGHEST_PROTOCOL)\n",
    "  f.close()\n",
    "except Exception as e:\n",
    "  print('Unable to save data to', pickle_file, ':', e)\n",
    "  raise"
   ]
  },
  {
   "cell_type": "code",
   "execution_count": null,
   "metadata": {},
   "outputs": [],
   "source": [
    "statinfo = os.stat(pickle_file)\n",
    "print('Compressed pickle size:', statinfo.st_size)"
   ]
  },
  {
   "cell_type": "code",
   "execution_count": null,
   "metadata": {
    "collapsed": true
   },
   "outputs": [],
   "source": [
    "# Now we'll eliminate some of the repitition between the training dataset and the test and validation datasets\n",
    "# Since comparing the data element wise is time and memory intensive, comparing a summation norm of each image\n",
    "# will be compared. This may eliminate extra images but it will certainly eliminate all repetitions.\n",
    "\n",
    "trainnorm = np.zeros(train_dataset.shape[0]);\n",
    "tick = 0\n",
    "for i in train_dataset:\n",
    "    trainnorm[tick] = np.sum(i);\n",
    "    tick += 1;\n",
    "    \n",
    "testnorm = np.zeros(test_dataset.shape[0]);\n",
    "tick = 0\n",
    "for i in test_dataset:\n",
    "    testnorm[tick] = np.sum(i);\n",
    "    tick += 1;\n",
    "    \n",
    "validnorm = np.zeros(valid_dataset.shape[0]);\n",
    "tick = 0\n",
    "for i in valid_dataset:\n",
    "    validnorm[tick] = np.sum(i); \n",
    "    tick += 1;"
   ]
  },
  {
   "cell_type": "code",
   "execution_count": null,
   "metadata": {
    "collapsed": true
   },
   "outputs": [],
   "source": [
    "# These are the indices of the repetitions of the validation and training norms in the training dataset.\n",
    "\n",
    "indexarray = np.array([]);\n",
    "tvintersect = np.intersect1d(trainnorm,validnorm);\n",
    "indices = np.array([]);\n",
    "for i in tvintersect:\n",
    "    j = np.where(trainnorm==i);\n",
    "    indices = np.append(indices,j[0]);\n",
    "\n",
    "indices = indices.astype(int);\n"
   ]
  },
  {
   "cell_type": "code",
   "execution_count": null,
   "metadata": {},
   "outputs": [],
   "source": [
    "# train_modset is the training dataset with the overlaps with the validation set eliminated\n",
    "\n",
    "trainrepetitions = train_dataset[indices];\n",
    "train_modset = np.delete(train_dataset,indices,axis=0);\n",
    "train_modlab = np.delete(train_labels,indices,axis=0);\n",
    "train_modset.shape"
   ]
  },
  {
   "cell_type": "code",
   "execution_count": null,
   "metadata": {
    "collapsed": true
   },
   "outputs": [],
   "source": [
    "# these are the indices of the repetitions of the test and modified training norms in the modified training dataset\n",
    "\n",
    "ftrainnorm = np.zeros(train_modset.shape[0]);\n",
    "tick = 0\n",
    "for i in train_modset:\n",
    "    ftrainnorm[tick] = np.sum(i);  \n",
    "    tick += 1;\n",
    "\n",
    "indexarray = np.array([]);\n",
    "ttintersect = np.intersect1d(ftrainnorm,testnorm);\n",
    "indices = np.array([]);\n",
    "for i in ttintersect:\n",
    "    j = np.where(ftrainnorm==i);\n",
    "    indices = np.append(indices,j[0]);\n",
    "\n",
    "indices = indices.astype(int);"
   ]
  },
  {
   "cell_type": "code",
   "execution_count": null,
   "metadata": {},
   "outputs": [],
   "source": [
    "# train_finalset is the training dataset with all the overlap with the validation and testing sets eliminated\n",
    "\n",
    "trainrepetitions = train_modset[indices];\n",
    "train_finalset = np.delete(train_modset,indices,axis=0);\n",
    "train_finallab = np.delete(train_modlab,indices,axis=0);\n",
    "train_finalset.shape\n"
   ]
  },
  {
   "cell_type": "code",
   "execution_count": null,
   "metadata": {},
   "outputs": [],
   "source": [
    "# No we check that there is no overlap in the norms of our final training dataset and the norms \n",
    "# of our validation and test datasets\n",
    "\n",
    "finalnorm = np.zeros(train_finalset.shape[0]);\n",
    "tick = 0\n",
    "for i in train_finalset:\n",
    "    finalnorm[tick] = np.sum(i); \n",
    "    tick += 1;\n",
    "    \n",
    "print(np.intersect1d(finalnorm,validnorm),np.intersect1d(finalnorm,testnorm));"
   ]
  },
  {
   "cell_type": "code",
   "execution_count": null,
   "metadata": {},
   "outputs": [],
   "source": [
    "# Now that all the data is properly edited we can start training our classifier on the data\n",
    "\n",
    "# first we need to establish an initial state. We will draw weights from a gaussian distribution.\n",
    "\n",
    "weights = np.random.normal(0,1/28,(10,28**2));\n",
    "\n",
    "\n",
    "train_finallab.shape\n",
    "train_finalset.shape"
   ]
  },
  {
   "cell_type": "code",
   "execution_count": null,
   "metadata": {
    "collapsed": true
   },
   "outputs": [],
   "source": [
    "def softmax(x):\n",
    "        a = np.sum(np.exp(x), axis=0)\n",
    "        b = np.exp(x) / a\n",
    "        return b\n",
    "    \n",
    "def CrossEntropy(Soft,Label):\n",
    "    D = -np.sum(np.multiply(Label,np.log(Soft)),axis=1);\n",
    "    return D"
   ]
  },
  {
   "cell_type": "code",
   "execution_count": null,
   "metadata": {},
   "outputs": [],
   "source": [
    "# Test time for our softmax and cross entropy functions\n",
    "\n",
    "Y = np.array([[0.1,0.1,0.2,0.6],[0.05,0.05,0.7,0.2],[0.8,0.01,0.01,0.18]]);\n",
    "\n",
    "YS = softmax(Y);\n",
    "\n",
    "L = np.zeros((3,4))\n",
    "\n",
    "L[0,3]=1;\n",
    "L[1,2]=1;\n",
    "L[2,0]=1;\n",
    "\n",
    "print(YS);\n",
    "print(CrossEntropy(YS,L));"
   ]
  },
  {
   "cell_type": "code",
   "execution_count": null,
   "metadata": {},
   "outputs": [],
   "source": [
    "# Before implementing the model we have to transcribe the labels into the proper format to properly calculate cross-entropy\n",
    "\n",
    "train_label_arrays = np.zeros((train_finallab.shape[0],10));\n",
    "\n",
    "for i in range (0,train_label_arrays.shape[0]):\n",
    "    train_label_arrays[i,train_finallab[i]]=1\n",
    "\n",
    "for i in range (0,10):\n",
    "    print(train_label_arrays[i*10000],train_finallab[i*10000]);\n"
   ]
  },
  {
   "cell_type": "code",
   "execution_count": null,
   "metadata": {
    "collapsed": true
   },
   "outputs": [],
   "source": [
    "# This is the model based on sci kits off the shelf logistic classifier\n",
    "\n",
    "X = train_finalset.reshape(train_finalset.shape[0],-1)\n",
    "\n",
    "Model = LogisticRegression();\n",
    "Model.fit(X,train_finallab);"
   ]
  },
  {
   "cell_type": "code",
   "execution_count": null,
   "metadata": {
    "collapsed": true
   },
   "outputs": [],
   "source": [
    "Xprime = valid_dataset.reshape(valid_dataset.shape[0],784)\n",
    "\n",
    "Validation_test_labels = Model.predict(Xprime)"
   ]
  },
  {
   "cell_type": "code",
   "execution_count": null,
   "metadata": {
    "collapsed": true
   },
   "outputs": [],
   "source": [
    "tick = 0\n",
    "for i in range (0,valid_dataset.shape[0]):\n",
    "    if Validation_test_labels[i] == valid_labels[i]:\n",
    "        tick += 1\n",
    "\n",
    "print('current model accuracy =', tick/valid_dataset.shape[0])"
   ]
  },
  {
   "cell_type": "code",
   "execution_count": null,
   "metadata": {
    "collapsed": true
   },
   "outputs": [],
   "source": [
    "coef, intercept = Model.coef_.copy(), Model.intercept_.copy()\n",
    "\n",
    "f = open('optimal_coefficients.pickle', 'wb')\n",
    "pickle.dump(coef, f)\n",
    "\n",
    "f = open('optimal_intercept.pickle', 'wb')\n",
    "pickle.dump(intercept, f)\n"
   ]
  }
 ],
 "metadata": {
  "anaconda-cloud": {},
  "kernelspec": {
   "display_name": "Python [default]",
   "language": "python",
   "name": "python3"
  },
  "language_info": {
   "codemirror_mode": {
    "name": "ipython",
    "version": 3
   },
   "file_extension": ".py",
   "mimetype": "text/x-python",
   "name": "python",
   "nbconvert_exporter": "python",
   "pygments_lexer": "ipython3",
   "version": "3.5.2"
  }
 },
 "nbformat": 4,
 "nbformat_minor": 1
}
